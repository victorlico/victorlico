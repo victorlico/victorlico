{
  "nbformat": 4,
  "nbformat_minor": 0,
  "metadata": {
    "colab": {
      "provenance": [],
      "authorship_tag": "ABX9TyMi1D2SYEqWUIKlVPmVMhPD"
    },
    "kernelspec": {
      "name": "python3",
      "display_name": "Python 3"
    },
    "language_info": {
      "name": "python"
    }
  },
  "cells": [
    {
      "cell_type": "code",
      "execution_count": null,
      "metadata": {
        "id": "iTto9CMJXIw-"
      },
      "outputs": [],
      "source": [
        "import numpy as np\n",
        "from scipy.optimize import least_squares\n",
        "from math import cos, sin, sqrt, pi\n",
        "\n",
        "def inverse_kinematics(x, y):\n",
        "    # Attachment point coordinates\n",
        "    P1 = np.array([-cos(pi/6), sin(pi/6)])\n",
        "    P2 = np.array([cos(pi/6), sin(pi/6)])\n",
        "    P3 = np.array([1, 1])\n",
        "    P = np.array([x, y])\n",
        "    \n",
        "    # Check if attachment points are collinear\n",
        "    det = (P2[0]-P1[0])*(P3[1]-P1[1]) - (P3[0]-P1[0])*(P2[1]-P1[1])\n",
        "    if abs(det) < 1e-10:\n",
        "        raise ValueError(\"Attachment points are collinear\")\n",
        "    \n",
        "    # Calculate distances and angles\n",
        "    # Objective function to minimize\n",
        "    def fun(L):\n",
        "      d1 = np.linalg.norm(P - P1)\n",
        "      d2 = np.linalg.norm(P - P2)\n",
        "      d3 = np.linalg.norm(P - P3)\n",
        "      if d1 > (d2 + d3) or d2 > (d1 + d3) or d3 > (d1 + d2):\n",
        "          raise ValueError(\"Desired position is outside reachable workspace\")\n",
        "      \n",
        "      theta1 = np.arccos((d1**2 + L[0]**2 - d2**2) / (2*d1*L[0]))\n",
        "      theta2 = np.arccos((d2**2 + L[1]**2 - d3**2) / (2*d2*L[1]))\n",
        "      theta3 = np.arccos((d3**2 + L[2]**2 - d1**2) / (2*d3*L[2]))\n",
        "      \n",
        "      # Check for numerical errors\n",
        "      if np.isnan(theta1) or np.isnan(theta2) or np.isnan(theta3):\n",
        "          raise ValueError(\"Invalid value encountered in arccos\")\n",
        "      if L[0] == 0 or L[1] == 0 or L[2] == 0:\n",
        "          raise ValueError(\"Zero division\")\n",
        "      \n",
        "      return [theta1 - 2*pi/3, theta2 - 2*pi/3, theta3 - 2*pi/3]\n",
        "\n",
        "       \n",
        "    \n",
        "    # Initial guess for L1, L2, and L3\n",
        "    L0 = np.array([2, 2+sqrt(3), sqrt(3)+1])\n",
        "    \n",
        "    # Solve using least-squares method\n",
        "    result = least_squares(fun, L0, bounds=([0, 0, 0], [np.inf, np.inf, np.inf]))\n",
        "    \n",
        "    # Return solution\n",
        "    return result.x\n",
        "\n"
      ]
    },
    {
      "cell_type": "code",
      "source": [
        "L1, L2, L3 = inverse_kinematics(10, 0) \n",
        "print(f\"L1:{L1}\")\n",
        "print(f\"L2:{L2}\")\n",
        "print(f\"L3:{L3}\")"
      ],
      "metadata": {
        "colab": {
          "base_uri": "https://localhost:8080/"
        },
        "id": "4MQrYDGAXMBM",
        "outputId": "90ad27f5-b572-47dc-97ad-4f5af0a8d068"
      },
      "execution_count": null,
      "outputs": [
        {
          "output_type": "stream",
          "name": "stdout",
          "text": [
            "L1:5.885415271547305\n",
            "L2:1.2959262618357466\n",
            "L3:3.0102453423077797\n"
          ]
        }
      ]
    }
  ]
}